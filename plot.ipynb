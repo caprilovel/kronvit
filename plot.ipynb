{
 "cells": [
  {
   "cell_type": "code",
   "execution_count": 4,
   "metadata": {},
   "outputs": [
    {
     "name": "stdout",
     "output_type": "stream",
     "text": [
      "GPU 0: NVIDIA RTX A5000 (ID: _CudaDeviceProperties(name='NVIDIA RTX A5000', major=8, minor=6, total_memory=24247MB, multi_processor_count=64))\n",
      "GPU 1: NVIDIA RTX A5000 (ID: _CudaDeviceProperties(name='NVIDIA RTX A5000', major=8, minor=6, total_memory=24247MB, multi_processor_count=64))\n",
      "GPU 2: NVIDIA RTX A5000 (ID: _CudaDeviceProperties(name='NVIDIA RTX A5000', major=8, minor=6, total_memory=24247MB, multi_processor_count=64))\n",
      "GPU 3: NVIDIA RTX A5000 (ID: _CudaDeviceProperties(name='NVIDIA RTX A5000', major=8, minor=6, total_memory=24247MB, multi_processor_count=64))\n",
      "GPU 4: NVIDIA RTX A5000 (ID: _CudaDeviceProperties(name='NVIDIA RTX A5000', major=8, minor=6, total_memory=24247MB, multi_processor_count=64))\n",
      "GPU 5: NVIDIA RTX A5000 (ID: _CudaDeviceProperties(name='NVIDIA RTX A5000', major=8, minor=6, total_memory=24247MB, multi_processor_count=64))\n",
      "GPU 6: NVIDIA RTX A5000 (ID: _CudaDeviceProperties(name='NVIDIA RTX A5000', major=8, minor=6, total_memory=24247MB, multi_processor_count=64))\n",
      "GPU 7: NVIDIA RTX A5000 (ID: _CudaDeviceProperties(name='NVIDIA RTX A5000', major=8, minor=6, total_memory=24247MB, multi_processor_count=64))\n"
     ]
    }
   ],
   "source": [
    "import torch\n",
    "import torch.nn as nn\n",
    "import torch.optim as optim\n",
    "import torch.nn.functional as F\n",
    "import numpy as np\n",
    "import pandas as pd\n",
    "import torch\n",
    "\n",
    "# Check if CUDA is available\n",
    "if torch.cuda.is_available():\n",
    "    # Get the number of available GPUs\n",
    "    num_gpus = torch.cuda.device_count()\n",
    "    \n",
    "    # Iterate over each GPU\n",
    "    for i in range(num_gpus):\n",
    "        # Get the GPU name and ID\n",
    "        gpu_name = torch.cuda.get_device_name(i)\n",
    "        gpu_id = torch.cuda.get_device_properties(i)\n",
    "        \n",
    "        # Print the GPU name and ID\n",
    "        print(f\"GPU {i}: {gpu_name} (ID: {gpu_id})\")\n",
    "else:\n",
    "    print(\"No GPUs available.\")\n"
   ]
  },
  {
   "cell_type": "code",
   "execution_count": 18,
   "metadata": {},
   "outputs": [],
   "source": [
    "# set cuda:1 as the device\n",
    "device = torch.device('cuda:1')\n",
    "\n",
    "class FreezeLinear(nn.Module):\n",
    "    def __init__(self, *args, **kwargs) -> None:\n",
    "        super().__init__(*args, **kwargs)\n",
    "        self.W = nn.Parameter(torch.ones(5000, 5000), requires_grad=True)\n",
    "        self.linear = nn.Linear(5000, 5000)\n",
    "        \n",
    "    def forward(self, x):\n",
    "        y = F.linear(x, self.W)\n",
    "        y = self.linear(y)\n",
    "        return y"
   ]
  },
  {
   "cell_type": "code",
   "execution_count": 19,
   "metadata": {},
   "outputs": [],
   "source": [
    "for i in range(1000):\n",
    "    model = FreezeLinear()\n",
    "    model = model.to(device)\n",
    "    input_x = torch.randn(1000, 5000).to(device)\n",
    "    y = model(input_x)"
   ]
  },
  {
   "cell_type": "code",
   "execution_count": 8,
   "metadata": {},
   "outputs": [
    {
     "data": {
      "text/plain": [
       "torch.Size([2, 3, 20])"
      ]
     },
     "execution_count": 8,
     "metadata": {},
     "output_type": "execute_result"
    }
   ],
   "source": [
    "import torch\n",
    "\n",
    "def fasterKDP(x, a, b):\n",
    "    x_shape = x.shape\n",
    "    a_shape = a.shape\n",
    "    b_shape = b.shape\n",
    "    \n",
    "    \n",
    "    assert a_shape[0] * b_shape[0] == x_shape[-1], \"The shapes of the input tensor and the factors are not compatible\"\n",
    "    # change x[-1] into a[0] b[0]\n",
    "    x = x.view(-1, a_shape[0], b_shape[0])    \n",
    "    x = x @ b\n",
    "    x = torch.permute(x, (0, 2, 1)).contiguous()\n",
    "    x = x @ a\n",
    "    x = torch.permute(x, (0, 2, 1)).contiguous()\n",
    "    \n",
    "    y_shape = [*x_shape[:-1], a_shape[-1] * b_shape[-1]]\n",
    "    x = x.view(y_shape)\n",
    "    return x\n",
    "\n",
    "x = torch.randn(2, 3, 12)\n",
    "a = torch.randn(3, 4)\n",
    "b = torch.randn(4, 5)\n",
    "y = fasterKDP(x, a, b)\n",
    "y.shape\n"
   ]
  },
  {
   "cell_type": "code",
   "execution_count": 3,
   "metadata": {},
   "outputs": [
    {
     "data": {
      "text/plain": [
       "torch.Size([1, 3, 2, 4])"
      ]
     },
     "execution_count": 3,
     "metadata": {},
     "output_type": "execute_result"
    }
   ],
   "source": [
    "import torch\n",
    "a = torch.randn(1,3, 2, 3)\n",
    "w = torch.randn(3, 4)\n",
    "c = a @ w\n",
    "c.shape "
   ]
  },
  {
   "cell_type": "code",
   "execution_count": 1,
   "metadata": {},
   "outputs": [
    {
     "ename": "ImportError",
     "evalue": "cannot import name 'KronLinear' from partially initialized module 'local_models.KronLinear' (most likely due to a circular import) (/home/zhu.3723/kronvit/local_models/KronLinear.py)",
     "output_type": "error",
     "traceback": [
      "\u001b[0;31m---------------------------------------------------------------------------\u001b[0m",
      "\u001b[0;31mImportError\u001b[0m                               Traceback (most recent call last)",
      "Cell \u001b[0;32mIn[1], line 1\u001b[0m\n\u001b[0;32m----> 1\u001b[0m \u001b[38;5;28;01mfrom\u001b[39;00m \u001b[38;5;21;01mlocal_models\u001b[39;00m\u001b[38;5;21;01m.\u001b[39;00m\u001b[38;5;21;01mKronLinear\u001b[39;00m \u001b[38;5;28;01mimport\u001b[39;00m Kron1Linear\n",
      "File \u001b[0;32m~/kronvit/local_models/KronLinear.py:14\u001b[0m\n\u001b[1;32m     10\u001b[0m \u001b[38;5;28;01mfrom\u001b[39;00m \u001b[38;5;21;01mtorch\u001b[39;00m\u001b[38;5;21;01m.\u001b[39;00m\u001b[38;5;21;01mjit\u001b[39;00m \u001b[38;5;28;01mimport\u001b[39;00m Final\n\u001b[1;32m     13\u001b[0m \u001b[38;5;28;01mfrom\u001b[39;00m \u001b[38;5;21;01mtyping\u001b[39;00m \u001b[38;5;28;01mimport\u001b[39;00m List\n\u001b[0;32m---> 14\u001b[0m \u001b[38;5;28;01mfrom\u001b[39;00m \u001b[38;5;21;01mlocal_utils\u001b[39;00m\u001b[38;5;21;01m.\u001b[39;00m\u001b[38;5;21;01mdecomposition\u001b[39;00m \u001b[38;5;28;01mimport\u001b[39;00m fasterKDP\n\u001b[1;32m     17\u001b[0m \u001b[38;5;28;01mdef\u001b[39;00m \u001b[38;5;21mfactorize\u001b[39m(n: \u001b[38;5;28mint\u001b[39m, bias\u001b[38;5;241m=\u001b[39m\u001b[38;5;241m0\u001b[39m) \u001b[38;5;241m-\u001b[39m\u001b[38;5;241m>\u001b[39m List[\u001b[38;5;28mint\u001b[39m]:\n\u001b[1;32m     18\u001b[0m     flag \u001b[38;5;241m=\u001b[39m \u001b[38;5;28;01mFalse\u001b[39;00m\n",
      "File \u001b[0;32m~/kronvit/local_utils/decomposition.py:6\u001b[0m\n\u001b[1;32m      3\u001b[0m \u001b[38;5;28;01mimport\u001b[39;00m \u001b[38;5;21;01mtorch\u001b[39;00m\u001b[38;5;21;01m.\u001b[39;00m\u001b[38;5;21;01mnn\u001b[39;00m \u001b[38;5;28;01mas\u001b[39;00m \u001b[38;5;21;01mnn\u001b[39;00m\n\u001b[1;32m      4\u001b[0m \u001b[38;5;28;01mimport\u001b[39;00m \u001b[38;5;21;01mtorch\u001b[39;00m\u001b[38;5;21;01m.\u001b[39;00m\u001b[38;5;21;01mnn\u001b[39;00m\u001b[38;5;21;01m.\u001b[39;00m\u001b[38;5;21;01mfunctional\u001b[39;00m \u001b[38;5;28;01mas\u001b[39;00m \u001b[38;5;21;01mF\u001b[39;00m\n\u001b[0;32m----> 6\u001b[0m \u001b[38;5;28;01mfrom\u001b[39;00m \u001b[38;5;21;01mlocal_models\u001b[39;00m\u001b[38;5;21;01m.\u001b[39;00m\u001b[38;5;21;01mKronLinear\u001b[39;00m \u001b[38;5;28;01mimport\u001b[39;00m KronLinear\n\u001b[1;32m      7\u001b[0m \u001b[38;5;28;01mimport\u001b[39;00m \u001b[38;5;21;01mnumpy\u001b[39;00m \u001b[38;5;28;01mas\u001b[39;00m \u001b[38;5;21;01mnp\u001b[39;00m\n\u001b[1;32m      8\u001b[0m \u001b[38;5;28;01mimport\u001b[39;00m \u001b[38;5;21;01mtensorly\u001b[39;00m \u001b[38;5;28;01mas\u001b[39;00m \u001b[38;5;21;01mtl\u001b[39;00m\n",
      "\u001b[0;31mImportError\u001b[0m: cannot import name 'KronLinear' from partially initialized module 'local_models.KronLinear' (most likely due to a circular import) (/home/zhu.3723/kronvit/local_models/KronLinear.py)"
     ]
    }
   ],
   "source": [
    "from local_models.KronLinear import *"
   ]
  }
 ],
 "metadata": {
  "kernelspec": {
   "display_name": "savit2.0",
   "language": "python",
   "name": "python3"
  },
  "language_info": {
   "codemirror_mode": {
    "name": "ipython",
    "version": 3
   },
   "file_extension": ".py",
   "mimetype": "text/x-python",
   "name": "python",
   "nbconvert_exporter": "python",
   "pygments_lexer": "ipython3",
   "version": "3.8.0"
  }
 },
 "nbformat": 4,
 "nbformat_minor": 2
}
